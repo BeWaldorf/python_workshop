{
 "cells": [
  {
   "cell_type": "code",
   "execution_count": 7,
   "id": "e4cccefa",
   "metadata": {},
   "outputs": [],
   "source": [
    "import pygame\n",
    "from overworld_controller import OverworldController\n",
    "\n",
    "SCREEN_WIDTH: int = 1600\n",
    "SCREEN_HEIGHT: int = 900\n",
    "\n",
    "def main():\n",
    "    pygame.init()\n",
    "    pygame.display.set_caption(\"Platformer\")\n",
    "    window = pygame.display.set_mode((SCREEN_WIDTH, SCREEN_HEIGHT))\n",
    "    c = OverworldController(window)\n",
    "    \n",
    "    run = True\n",
    "    while run:\n",
    "        run = c.game_loop()\n",
    "    pygame.quit()\n",
    "     \n",
    "if __name__ == \"__main__\":\n",
    "    main()"
   ]
  },
  {
   "cell_type": "code",
   "execution_count": null,
   "id": "b13dce65",
   "metadata": {},
   "outputs": [],
   "source": []
  }
 ],
 "metadata": {
  "kernelspec": {
   "display_name": "Python 3 (ipykernel)",
   "language": "python",
   "name": "python3"
  },
  "language_info": {
   "codemirror_mode": {
    "name": "ipython",
    "version": 3
   },
   "file_extension": ".py",
   "mimetype": "text/x-python",
   "name": "python",
   "nbconvert_exporter": "python",
   "pygments_lexer": "ipython3",
   "version": "3.10.9"
  }
 },
 "nbformat": 4,
 "nbformat_minor": 5
}
