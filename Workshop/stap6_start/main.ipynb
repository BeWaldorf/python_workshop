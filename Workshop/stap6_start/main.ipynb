{
 "cells": [
  {
   "cell_type": "code",
   "execution_count": 1,
   "id": "9cd0052b",
   "metadata": {},
   "outputs": [
    {
     "name": "stdout",
     "output_type": "stream",
     "text": [
      "pygame 2.1.2 (SDL 2.0.18, Python 3.10.9)\n",
      "Hello from the pygame community. https://www.pygame.org/contribute.html\n"
     ]
    },
    {
     "ename": "SyntaxError",
     "evalue": "invalid syntax (overworld_view.py, line 4)",
     "output_type": "error",
     "traceback": [
      "Traceback \u001b[1;36m(most recent call last)\u001b[0m:\n",
      "\u001b[0m  File \u001b[0;32mE:\\WinpyWorkshop\\python-3.10.9.amd64\\lib\\site-packages\\IPython\\core\\interactiveshell.py:3433\u001b[0m in \u001b[0;35mrun_code\u001b[0m\n    exec(code_obj, self.user_global_ns, self.user_ns)\u001b[0m\n",
      "\u001b[0m  Cell \u001b[0;32mIn[1], line 2\u001b[0m\n    from overworld_controller import OverworldController\u001b[0m\n",
      "\u001b[1;36m  File \u001b[1;32mE:\\WinpyWorkshop\\notebooks\\docs\\Workshop\\stap6_start\\overworld_controller.py:3\u001b[1;36m\n\u001b[1;33m    from overworld_view     import OverworldView\u001b[1;36m\n",
      "\u001b[1;36m  File \u001b[1;32mE:\\WinpyWorkshop\\notebooks\\docs\\Workshop\\stap6_start\\overworld_view.py:4\u001b[1;36m\u001b[0m\n\u001b[1;33m    from\u001b[0m\n\u001b[1;37m         ^\u001b[0m\n\u001b[1;31mSyntaxError\u001b[0m\u001b[1;31m:\u001b[0m invalid syntax\n"
     ]
    }
   ],
   "source": [
    "import pygame\n",
    "from overworld_controller import OverworldController\n",
    "\n",
    "SCREEN_WIDTH: int = 1280\n",
    "SCREEN_HEIGHT: int = 720\n",
    "\n",
    "def main():\n",
    "    pygame.init()\n",
    "    pygame.display.set_caption(\"Platformer\")\n",
    "    window = pygame.display.set_mode((SCREEN_WIDTH, SCREEN_HEIGHT))\n",
    "    c = OverworldController(window)\n",
    "    \n",
    "    run = True\n",
    "    while run:\n",
    "        run = c.game_loop()\n",
    "    pygame.quit()\n",
    "\n",
    "if __name__ == \"__main__\":\n",
    "    main()"
   ]
  },
  {
   "cell_type": "code",
   "execution_count": null,
   "id": "47d23a08",
   "metadata": {},
   "outputs": [],
   "source": []
  }
 ],
 "metadata": {
  "kernelspec": {
   "display_name": "Python 3 (ipykernel)",
   "language": "python",
   "name": "python3"
  },
  "language_info": {
   "codemirror_mode": {
    "name": "ipython",
    "version": 3
   },
   "file_extension": ".py",
   "mimetype": "text/x-python",
   "name": "python",
   "nbconvert_exporter": "python",
   "pygments_lexer": "ipython3",
   "version": "3.10.9"
  }
 },
 "nbformat": 4,
 "nbformat_minor": 5
}
