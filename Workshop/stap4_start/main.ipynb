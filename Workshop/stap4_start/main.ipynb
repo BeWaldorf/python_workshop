{
 "cells": [
  {
   "cell_type": "code",
   "execution_count": 1,
   "id": "4852d9c7",
   "metadata": {},
   "outputs": [
    {
     "name": "stdout",
     "output_type": "stream",
     "text": [
      "pygame 2.1.2 (SDL 2.0.18, Python 3.10.9)\n",
      "Hello from the pygame community. https://www.pygame.org/contribute.html\n",
      "hello world\n"
     ]
    }
   ],
   "source": [
    "import pygame\n",
    "from os.path import join\n",
    "\n",
    "SCREEN_WIDTH: int = 1280\n",
    "SCREEN_HEIGHT: int = 720\n",
    "\n",
    "def main():\n",
    "    print(\"hello world\")\n",
    "    pygame.init()\n",
    "    pygame.display.set_caption(\"Platformer\")\n",
    "    window = pygame.display.set_mode((SCREEN_WIDTH, SCREEN_HEIGHT))\n",
    "    draw_brackground(window, \"Pink.png\")\n",
    "    run = True\n",
    "    while run:\n",
    "        for event in pygame.event.get():\n",
    "            if event.type == pygame.QUIT:\n",
    "                run = False\n",
    "                break\n",
    "    pygame.quit()\n",
    "\n",
    "def draw_brackground(window: pygame.Surface, name: str) -> None:\n",
    "    image: pygame.Surface  = pygame.image.load(join(\"assets\", \"Background\", name))\n",
    "    _, _, width, height = image.get_rect()\n",
    "    tile_grid = []\n",
    "    \n",
    "    for column in range(SCREEN_WIDTH // width + 1):\n",
    "        for row in range(SCREEN_HEIGHT // height + 1):\n",
    "            coordinate = (column * width, row * height)\n",
    "            tile_grid.append(coordinate)\n",
    "    \n",
    "    for tile_coord in tile_grid:\n",
    "        window.blit(image, tile_coord)\n",
    "    \n",
    "    pygame.display.update()\n",
    "         \n",
    "if __name__ == \"__main__\":\n",
    "    main()"
   ]
  },
  {
   "cell_type": "code",
   "execution_count": null,
   "id": "eb2d027d",
   "metadata": {},
   "outputs": [],
   "source": []
  }
 ],
 "metadata": {
  "kernelspec": {
   "display_name": "Python 3 (ipykernel)",
   "language": "python",
   "name": "python3"
  },
  "language_info": {
   "codemirror_mode": {
    "name": "ipython",
    "version": 3
   },
   "file_extension": ".py",
   "mimetype": "text/x-python",
   "name": "python",
   "nbconvert_exporter": "python",
   "pygments_lexer": "ipython3",
   "version": "3.10.9"
  }
 },
 "nbformat": 4,
 "nbformat_minor": 5
}
