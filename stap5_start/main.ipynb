{
 "cells": [
  {
   "cell_type": "code",
   "execution_count": 1,
   "id": "e4cccefa",
   "metadata": {},
   "outputs": [
    {
     "name": "stdout",
     "output_type": "stream",
     "text": [
      "pygame 2.1.2 (SDL 2.0.18, Python 3.10.9)\n",
      "Hello from the pygame community. https://www.pygame.org/contribute.html\n"
     ]
    }
   ],
   "source": [
    "import pygame\n",
    "from overworld_controller import OverworldController\n",
    "\n",
    "SCREEN_WIDTH: int = 1280\n",
    "SCREEN_HEIGHT: int = 720\n",
    "\n",
    "def main():\n",
    "    pygame.init()\n",
    "    pygame.display.set_caption(\"Platformer\")\n",
    "    window = pygame.display.set_mode((SCREEN_WIDTH, SCREEN_HEIGHT))\n",
    "    c = OverworldController(window)\n",
    "    \n",
    "    run = True\n",
    "    while run:\n",
    "        run = c.game_loop()\n",
    "    pygame.quit()\n",
    "     \n",
    "if __name__ == \"__main__\":\n",
    "    main()"
   ]
  },
  {
   "cell_type": "code",
   "execution_count": null,
   "id": "d63ae6d3",
   "metadata": {},
   "outputs": [],
   "source": []
  }
 ],
 "metadata": {
  "kernelspec": {
   "display_name": "Python 3 (ipykernel)",
   "language": "python",
   "name": "python3"
  },
  "language_info": {
   "codemirror_mode": {
    "name": "ipython",
    "version": 3
   },
   "file_extension": ".py",
   "mimetype": "text/x-python",
   "name": "python",
   "nbconvert_exporter": "python",
   "pygments_lexer": "ipython3",
   "version": "3.10.9"
  }
 },
 "nbformat": 4,
 "nbformat_minor": 5
}
